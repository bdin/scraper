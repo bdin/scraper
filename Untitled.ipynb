{
 "cells": [
  {
   "cell_type": "code",
   "execution_count": null,
   "metadata": {
    "collapsed": true
   },
   "outputs": [],
   "source": [
    "from time import sleep\n",
    "from selenium import webdriver\n",
    "from selenium.webdriver.support.ui import Select\n",
    "import csv"
   ]
  },
  {
   "cell_type": "code",
   "execution_count": null,
   "metadata": {
    "collapsed": true
   },
   "outputs": [],
   "source": [
    "path_to_chromedriver = '/Users/benjamindin/graphics/zip-scraper/chromedriver'"
   ]
  },
  {
   "cell_type": "code",
   "execution_count": null,
   "metadata": {
    "collapsed": true
   },
   "outputs": [],
   "source": [
    "opt = webdriver.ChromeOptions()\n",
    "browser = webdriver.Chrome(executable_path = path_to_chromedriver, chrome_options=opt)\n",
    "url = 'https://m.usps.com/m/ZipLookupAction?search=city'"
   ]
  },
  {
   "cell_type": "code",
   "execution_count": null,
   "metadata": {
    "collapsed": true
   },
   "outputs": [],
   "source": [
    "file1 = open('data.csv', 'rt', encoding = 'utf-8')\n",
    "reader = csv.reader(file1)\n",
    "new_rows_list = []"
   ]
  },
  {
   "cell_type": "code",
   "execution_count": null,
   "metadata": {},
   "outputs": [],
   "source": [
    "count = 0\n",
    "\n",
    "for row in reader:\n",
    "\n",
    "      browser.get(url)\n",
    "      html = browser.page_source\n",
    "      select = Select(browser.find_element_by_id('sState2'))\n",
    "      browser.find_element_by_id('tCity2').send_keys(row[0])\n",
    "      select.select_by_value('TX')\n",
    "      browser.find_element_by_id('byAddr-city').click()\n",
    "        \n",
    "      sleep(2)\n",
    "      \n",
    "      zips = \"\";\n",
    "        \n",
    "      html = browser.page_source\n",
    "    \n",
    "      number = 1\n",
    "\n",
    "      while \"zip-result-link\" in html:\n",
    "          zips += browser.find_element_by_xpath('(//a[@class=\"zip-result-link\"])[position()=' + str(number) + ']').text\n",
    "          zips += \", \"\n",
    "          newBeginning = html.find(\"zip-result-link\") + 20\n",
    "          html = html[newBeginning:]\n",
    "          number += 1\n",
    "              \n",
    "      zips = zips[:-2]\n",
    "      print(zips)\n",
    "\n",
    "      new_row = [row[0], zips]\n",
    "      new_rows_list.append(new_row)\n",
    "        \n",
    "      count += 1\n",
    "      print(count)\n",
    "    \n",
    "      if count % 5 == 0:\n",
    "          sleep(5)\n",
    "\n",
    "file1.close()\n",
    "\n",
    "# Do the writing\n",
    "file2 = open('data.csv', 'wt')\n",
    "writer = csv.writer(file2)\n",
    "writer.writerows(new_rows_list)\n",
    "file2.close()\n"
   ]
  },
  {
   "cell_type": "code",
   "execution_count": null,
   "metadata": {
    "collapsed": true
   },
   "outputs": [],
   "source": [
    "# go back and check for things that I may have missed earlier\n",
    "\n",
    "count = 0\n",
    "\n",
    "for row in reader:\n",
    "\n",
    "      if row[1] == \"\":\n",
    "          browser.get(url)\n",
    "    \n",
    "          html = browser.page_source\n",
    "          select = Select(browser.find_element_by_id('sState2'))\n",
    "          browser.find_element_by_id('tCity2').send_keys(row[0])\n",
    "          select.select_by_value('TX')\n",
    "          browser.find_element_by_id('byAddr-city').click()\n",
    "\n",
    "          sleep(3)\n",
    "\n",
    "          zips = \"\";\n",
    "\n",
    "          html = browser.page_source\n",
    "\n",
    "          number = 1\n",
    "\n",
    "          while \"zip-result-link\" in html:\n",
    "              zips += browser.find_element_by_xpath('(//a[@class=\"zip-result-link\"])[position()=' + str(number) + ']').text[:5]\n",
    "              zips += \", \"\n",
    "              newBeginning = html.find(\"zip-result-link\") + 20\n",
    "              html = html[newBeginning:]\n",
    "              number += 1\n",
    "\n",
    "          zips = zips[:-2]\n",
    "          print(zips)\n",
    "\n",
    "          new_row = [row[0], zips]\n",
    "          new_rows_list.append(new_row)\n",
    "\n",
    "          count += 1\n",
    "          print(count)\n",
    "\n",
    "          if count % 5 == 0:\n",
    "              sleep(2)\n",
    "                \n",
    "      else:\n",
    "          new_row = [row[0], row[1]]\n",
    "          new_rows_list.append(new_row)\n",
    "        \n",
    "          count += 1\n",
    "          print(count)\n",
    "\n",
    "file1.close()\n",
    "\n",
    "# Do the writing\n",
    "file2 = open('data.csv', 'wt')\n",
    "writer = csv.writer(file2)\n",
    "writer.writerows(new_rows_list)\n",
    "file2.close()"
   ]
  },
  {
   "cell_type": "code",
   "execution_count": null,
   "metadata": {
    "collapsed": true
   },
   "outputs": [],
   "source": []
  }
 ],
 "metadata": {
  "kernelspec": {
   "display_name": "Python 3",
   "language": "python",
   "name": "python3"
  },
  "language_info": {
   "codemirror_mode": {
    "name": "ipython",
    "version": 3
   },
   "file_extension": ".py",
   "mimetype": "text/x-python",
   "name": "python",
   "nbconvert_exporter": "python",
   "pygments_lexer": "ipython3",
   "version": "3.6.2"
  }
 },
 "nbformat": 4,
 "nbformat_minor": 2
}
